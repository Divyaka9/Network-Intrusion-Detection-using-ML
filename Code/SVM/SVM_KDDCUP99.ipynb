{
 "cells": [
  {
   "cell_type": "markdown",
   "metadata": {},
   "source": [
    "# For KDDCUP99 dataset"
   ]
  },
  {
   "cell_type": "code",
   "execution_count": 1,
   "metadata": {
    "id": "wkbK1XYzp5Q2"
   },
   "outputs": [],
   "source": [
    "#Importing package\n",
    "import pandas as pd\n",
    "import numpy as np\n",
    "import tensorflow as tf\n"
   ]
  },
  {
   "cell_type": "code",
   "execution_count": 2,
   "metadata": {},
   "outputs": [],
   "source": [
    "#Importing train and test set\n",
    "train_set = pd.read_csv(\"..\\\\dataset\\\\kddcup99-train.csv\")\n",
    "test_set = pd.read_csv(\"..\\\\dataset\\\\kddcup99-test.csv\")\n"
   ]
  },
  {
   "cell_type": "markdown",
   "metadata": {},
   "source": [
    "# DDOS Attack SVM classifier"
   ]
  },
  {
   "cell_type": "code",
   "execution_count": 3,
   "metadata": {},
   "outputs": [],
   "source": [
    "# One-class DDOS attack type train and test\n",
    "train_ddos = train_set.copy()\n",
    "test_ddos = test_set.copy()\n",
    "\n",
    "#Converting ddos class to 'Yes' class and other classes to 'No' for ddos classifier\n",
    "class_convert = {'ddos':'ddos','probe':'Not ddos','u2r':'Not ddos','r2l':'Not ddos','normal':'Not ddos'}\n",
    "\n",
    "train_ddos['label'] = train_ddos.label.map(class_convert)\n",
    "test_ddos['label'] = test_ddos.label.map(class_convert)\n"
   ]
  },
  {
   "cell_type": "code",
   "execution_count": 4,
   "metadata": {
    "id": "SebkGHwTrzyb"
   },
   "outputs": [],
   "source": [
    "#Seperating the features and output\n",
    "X_train_ddos = train_ddos.iloc[:,:-1].values\n",
    "y_train_ddos = train_ddos.iloc[:,-1].values\n",
    "\n",
    "X_test_ddos = test_ddos.iloc[:,:-1].values\n",
    "y_test_ddos = test_ddos.iloc[:,-1].values\n"
   ]
  },
  {
   "cell_type": "code",
   "execution_count": 5,
   "metadata": {},
   "outputs": [
    {
     "data": {
      "text/plain": [
       "SVC()"
      ]
     },
     "execution_count": 5,
     "metadata": {},
     "output_type": "execute_result"
    }
   ],
   "source": [
    "#One-class SVM classifier with gaussian kernel\n",
    "from sklearn.svm import SVC\n",
    "ddos_classifier = SVC(kernel='rbf')\n",
    "ddos_classifier.fit(X_train_ddos,y_train_ddos)\n"
   ]
  },
  {
   "cell_type": "code",
   "execution_count": 6,
   "metadata": {},
   "outputs": [],
   "source": [
    "#Predictions\n",
    "y_pred_ddos = ddos_classifier.predict(X_test_ddos)\n"
   ]
  },
  {
   "cell_type": "code",
   "execution_count": 7,
   "metadata": {},
   "outputs": [
    {
     "name": "stdout",
     "output_type": "stream",
     "text": [
      "One-class DDOS attack classifier\n",
      "\n",
      "[[ 9253     6]\n",
      " [    2 34765]]\n",
      "\n",
      "              precision    recall  f1-score   support\n",
      "\n",
      "    Not ddos       1.00      1.00      1.00      9259\n",
      "        ddos       1.00      1.00      1.00     34767\n",
      "\n",
      "    accuracy                           1.00     44026\n",
      "   macro avg       1.00      1.00      1.00     44026\n",
      "weighted avg       1.00      1.00      1.00     44026\n",
      "\n"
     ]
    }
   ],
   "source": [
    "#Confusion matrix and Classification Report\n",
    "from sklearn.metrics import classification_report, confusion_matrix\n",
    "print(\"One-class DDOS attack classifier\")\n",
    "print()\n",
    "print(confusion_matrix(y_test_ddos, y_pred_ddos))\n",
    "print()\n",
    "print(classification_report(y_test_ddos, y_pred_ddos))\n"
   ]
  },
  {
   "cell_type": "code",
   "execution_count": 8,
   "metadata": {},
   "outputs": [
    {
     "data": {
      "image/png": "[encoded data removed]",
      "text/plain": [
       "<Figure size 576x576 with 2 Axes>"
      ]
     },
     "metadata": {
      "needs_background": "light"
     },
     "output_type": "display_data"
    }
   ],
   "source": [
    "from sklearn.metrics import plot_confusion_matrix\n",
    "import matplotlib.pyplot as plt\n",
    "plt.rcParams['figure.figsize']=8,8\n",
    "plot_confusion_matrix(ddos_classifier,X_test_ddos,y_test_ddos,display_labels = test_ddos['label'].unique(),cmap=plt.cm.Blues)\n",
    "plt.show()"
   ]
  },
  {
   "cell_type": "code",
   "execution_count": null,
   "metadata": {},
   "outputs": [],
   "source": []
  },
  {
   "cell_type": "markdown",
   "metadata": {},
   "source": [
    "# 4-Class Attack type SVM classifier"
   ]
  },
  {
   "cell_type": "code",
   "execution_count": 9,
   "metadata": {},
   "outputs": [],
   "source": [
    "# Segregating the 4 attack classes from the original dataset \n",
    "train_class4 = train_set[train_set[\"label\"]!=\"ddos\"].copy()\n",
    "test_class4 = test_set[test_set[\"label\"]!=\"ddos\"].copy()\n"
   ]
  },
  {
   "cell_type": "code",
   "execution_count": 10,
   "metadata": {},
   "outputs": [
    {
     "data": {
      "text/plain": [
       "array(['normal', 'r2l', 'probe', 'u2r'], dtype=object)"
      ]
     },
     "execution_count": 10,
     "metadata": {},
     "output_type": "execute_result"
    }
   ],
   "source": [
    "test_class4[\"label\"].unique()\n"
   ]
  },
  {
   "cell_type": "code",
   "execution_count": 11,
   "metadata": {},
   "outputs": [],
   "source": [
    "#Seperating the features and output\n",
    "X_train_class4 = train_class4.iloc[:,:-1].values\n",
    "y_train_class4 = train_class4.iloc[:,-1].values\n",
    "\n",
    "X_test_class4 = test_class4.iloc[:,:-1].values\n",
    "y_test_class4 = test_class4.iloc[:,-1].values\n"
   ]
  },
  {
   "cell_type": "code",
   "execution_count": 12,
   "metadata": {},
   "outputs": [
    {
     "data": {
      "text/plain": [
       "SVC()"
      ]
     },
     "execution_count": 12,
     "metadata": {},
     "output_type": "execute_result"
    }
   ],
   "source": [
    "#4-class SVM classifier with gaussian kernel\n",
    "from sklearn.svm import SVC\n",
    "class4_classifier = SVC(kernel='rbf')\n",
    "class4_classifier.fit(X_train_class4,y_train_class4)\n"
   ]
  },
  {
   "cell_type": "code",
   "execution_count": 13,
   "metadata": {},
   "outputs": [],
   "source": [
    "#Predictions\n",
    "y_pred_class4 = class4_classifier.predict(X_test_class4)\n"
   ]
  },
  {
   "cell_type": "code",
   "execution_count": 14,
   "metadata": {},
   "outputs": [
    {
     "name": "stdout",
     "output_type": "stream",
     "text": [
      "4-class DDOS attack type classifier\n",
      "\n",
      "[[8754    2    5    1]\n",
      " [   7  377    0    0]\n",
      " [  25    0   77    0]\n",
      " [   6    0    1    4]]\n",
      "\n",
      "              precision    recall  f1-score   support\n",
      "\n",
      "      normal       1.00      1.00      1.00      8762\n",
      "       probe       0.99      0.98      0.99       384\n",
      "         r2l       0.93      0.75      0.83       102\n",
      "         u2r       0.80      0.36      0.50        11\n",
      "\n",
      "    accuracy                           0.99      9259\n",
      "   macro avg       0.93      0.77      0.83      9259\n",
      "weighted avg       0.99      0.99      0.99      9259\n",
      "\n"
     ]
    }
   ],
   "source": [
    "#Confusion matrix and Classification Report\n",
    "from sklearn.metrics import classification_report, confusion_matrix\n",
    "print(\"4-class DDOS attack type classifier\")\n",
    "print()\n",
    "print(confusion_matrix(y_test_class4, y_pred_class4))\n",
    "print()\n",
    "print(classification_report(y_test_class4, y_pred_class4))\n"
   ]
  },
  {
   "cell_type": "code",
   "execution_count": 15,
   "metadata": {},
   "outputs": [
    {
     "data": {
      "image/png": "[encoded data removed]",
      "text/plain": [
       "<Figure size 576x576 with 2 Axes>"
      ]
     },
     "metadata": {
      "needs_background": "light"
     },
     "output_type": "display_data"
    }
   ],
   "source": [
    "plot_confusion_matrix(class4_classifier,X_test_class4,y_test_class4,display_labels = test_class4['label'].unique(),cmap=plt.cm.Blues)\n",
    "plt.show()"
   ]
  },
  {
   "cell_type": "code",
   "execution_count": null,
   "metadata": {},
   "outputs": [],
   "source": []
  },
  {
   "cell_type": "markdown",
   "metadata": {},
   "source": [
    "# 4-class SVM classifier predictions of DDOS classifier results"
   ]
  },
  {
   "cell_type": "code",
   "execution_count": 16,
   "metadata": {},
   "outputs": [],
   "source": [
    "#Copying the original label to ddos test set\n",
    "attack_ch = np.array(test_set['label'])\n",
    "test_ddos['label2'] = attack_ch\n"
   ]
  },
  {
   "cell_type": "code",
   "execution_count": 17,
   "metadata": {},
   "outputs": [],
   "source": [
    "#Putting the predictions from the first classifier into the test set for the 2nd classsifier\n",
    "test_ddos['label3'] = y_pred_ddos\n"
   ]
  },
  {
   "cell_type": "code",
   "execution_count": 18,
   "metadata": {},
   "outputs": [
    {
     "data": {
      "text/html": [
       "<div>\n",
       "<style scoped>\n",
       "    .dataframe tbody tr th:only-of-type {\n",
       "        vertical-align: middle;\n",
       "    }\n",
       "\n",
       "    .dataframe tbody tr th {\n",
       "        vertical-align: top;\n",
       "    }\n",
       "\n",
       "    .dataframe thead th {\n",
       "        text-align: right;\n",
       "    }\n",
       "</style>\n",
       "<table border=\"1\" class=\"dataframe\">\n",
       "  <thead>\n",
       "    <tr style=\"text-align: right;\">\n",
       "      <th></th>\n",
       "      <th>duration</th>\n",
       "      <th>protocol_type</th>\n",
       "      <th>service</th>\n",
       "      <th>flag</th>\n",
       "      <th>src_bytes</th>\n",
       "      <th>dst_bytes</th>\n",
       "      <th>land</th>\n",
       "      <th>wrong_fragment</th>\n",
       "      <th>urgent</th>\n",
       "      <th>hot</th>\n",
       "      <th>...</th>\n",
       "      <th>dst_host_diff_srv_rate</th>\n",
       "      <th>dst_host_same_src_port_rate</th>\n",
       "      <th>dst_host_srv_diff_host_rate</th>\n",
       "      <th>dst_host_serror_rate</th>\n",
       "      <th>dst_host_srv_serror_rate</th>\n",
       "      <th>dst_host_rerror_rate</th>\n",
       "      <th>dst_host_srv_rerror_rate</th>\n",
       "      <th>label</th>\n",
       "      <th>label2</th>\n",
       "      <th>label3</th>\n",
       "    </tr>\n",
       "  </thead>\n",
       "  <tbody>\n",
       "    <tr>\n",
       "      <th>0</th>\n",
       "      <td>0.000000</td>\n",
       "      <td>0.0</td>\n",
       "      <td>0.052632</td>\n",
       "      <td>0.714286</td>\n",
       "      <td>1.488371e-06</td>\n",
       "      <td>0.000000</td>\n",
       "      <td>0.0</td>\n",
       "      <td>0.0</td>\n",
       "      <td>0.0</td>\n",
       "      <td>0.0</td>\n",
       "      <td>...</td>\n",
       "      <td>0.00</td>\n",
       "      <td>1.00</td>\n",
       "      <td>0.00</td>\n",
       "      <td>0.0</td>\n",
       "      <td>0.0</td>\n",
       "      <td>0.0</td>\n",
       "      <td>0.0</td>\n",
       "      <td>ddos</td>\n",
       "      <td>ddos</td>\n",
       "      <td>ddos</td>\n",
       "    </tr>\n",
       "    <tr>\n",
       "      <th>1</th>\n",
       "      <td>0.000000</td>\n",
       "      <td>0.0</td>\n",
       "      <td>0.052632</td>\n",
       "      <td>0.714286</td>\n",
       "      <td>1.488371e-06</td>\n",
       "      <td>0.000000</td>\n",
       "      <td>0.0</td>\n",
       "      <td>0.0</td>\n",
       "      <td>0.0</td>\n",
       "      <td>0.0</td>\n",
       "      <td>...</td>\n",
       "      <td>0.00</td>\n",
       "      <td>1.00</td>\n",
       "      <td>0.00</td>\n",
       "      <td>0.0</td>\n",
       "      <td>0.0</td>\n",
       "      <td>0.0</td>\n",
       "      <td>0.0</td>\n",
       "      <td>ddos</td>\n",
       "      <td>ddos</td>\n",
       "      <td>ddos</td>\n",
       "    </tr>\n",
       "    <tr>\n",
       "      <th>2</th>\n",
       "      <td>0.000017</td>\n",
       "      <td>0.5</td>\n",
       "      <td>0.736842</td>\n",
       "      <td>0.714286</td>\n",
       "      <td>8.408141e-07</td>\n",
       "      <td>0.000064</td>\n",
       "      <td>0.0</td>\n",
       "      <td>0.0</td>\n",
       "      <td>0.0</td>\n",
       "      <td>0.0</td>\n",
       "      <td>...</td>\n",
       "      <td>0.05</td>\n",
       "      <td>0.01</td>\n",
       "      <td>0.01</td>\n",
       "      <td>0.0</td>\n",
       "      <td>0.0</td>\n",
       "      <td>0.0</td>\n",
       "      <td>0.0</td>\n",
       "      <td>Not ddos</td>\n",
       "      <td>normal</td>\n",
       "      <td>Not ddos</td>\n",
       "    </tr>\n",
       "    <tr>\n",
       "      <th>3</th>\n",
       "      <td>0.045089</td>\n",
       "      <td>1.0</td>\n",
       "      <td>0.631579</td>\n",
       "      <td>0.714286</td>\n",
       "      <td>2.120063e-07</td>\n",
       "      <td>0.000020</td>\n",
       "      <td>0.0</td>\n",
       "      <td>0.0</td>\n",
       "      <td>0.0</td>\n",
       "      <td>0.0</td>\n",
       "      <td>...</td>\n",
       "      <td>0.85</td>\n",
       "      <td>1.00</td>\n",
       "      <td>0.00</td>\n",
       "      <td>0.0</td>\n",
       "      <td>0.0</td>\n",
       "      <td>0.0</td>\n",
       "      <td>0.0</td>\n",
       "      <td>Not ddos</td>\n",
       "      <td>normal</td>\n",
       "      <td>Not ddos</td>\n",
       "    </tr>\n",
       "    <tr>\n",
       "      <th>4</th>\n",
       "      <td>0.000000</td>\n",
       "      <td>0.0</td>\n",
       "      <td>0.052632</td>\n",
       "      <td>0.714286</td>\n",
       "      <td>1.488371e-06</td>\n",
       "      <td>0.000000</td>\n",
       "      <td>0.0</td>\n",
       "      <td>0.0</td>\n",
       "      <td>0.0</td>\n",
       "      <td>0.0</td>\n",
       "      <td>...</td>\n",
       "      <td>0.00</td>\n",
       "      <td>1.00</td>\n",
       "      <td>0.00</td>\n",
       "      <td>0.0</td>\n",
       "      <td>0.0</td>\n",
       "      <td>0.0</td>\n",
       "      <td>0.0</td>\n",
       "      <td>ddos</td>\n",
       "      <td>ddos</td>\n",
       "      <td>ddos</td>\n",
       "    </tr>\n",
       "    <tr>\n",
       "      <th>...</th>\n",
       "      <td>...</td>\n",
       "      <td>...</td>\n",
       "      <td>...</td>\n",
       "      <td>...</td>\n",
       "      <td>...</td>\n",
       "      <td>...</td>\n",
       "      <td>...</td>\n",
       "      <td>...</td>\n",
       "      <td>...</td>\n",
       "      <td>...</td>\n",
       "      <td>...</td>\n",
       "      <td>...</td>\n",
       "      <td>...</td>\n",
       "      <td>...</td>\n",
       "      <td>...</td>\n",
       "      <td>...</td>\n",
       "      <td>...</td>\n",
       "      <td>...</td>\n",
       "      <td>...</td>\n",
       "      <td>...</td>\n",
       "      <td>...</td>\n",
       "    </tr>\n",
       "    <tr>\n",
       "      <th>44021</th>\n",
       "      <td>0.000000</td>\n",
       "      <td>0.0</td>\n",
       "      <td>0.052632</td>\n",
       "      <td>0.714286</td>\n",
       "      <td>7.499542e-07</td>\n",
       "      <td>0.000000</td>\n",
       "      <td>0.0</td>\n",
       "      <td>0.0</td>\n",
       "      <td>0.0</td>\n",
       "      <td>0.0</td>\n",
       "      <td>...</td>\n",
       "      <td>0.00</td>\n",
       "      <td>1.00</td>\n",
       "      <td>0.00</td>\n",
       "      <td>0.0</td>\n",
       "      <td>0.0</td>\n",
       "      <td>0.0</td>\n",
       "      <td>0.0</td>\n",
       "      <td>ddos</td>\n",
       "      <td>ddos</td>\n",
       "      <td>ddos</td>\n",
       "    </tr>\n",
       "    <tr>\n",
       "      <th>44022</th>\n",
       "      <td>0.000000</td>\n",
       "      <td>0.0</td>\n",
       "      <td>0.052632</td>\n",
       "      <td>0.714286</td>\n",
       "      <td>7.499542e-07</td>\n",
       "      <td>0.000000</td>\n",
       "      <td>0.0</td>\n",
       "      <td>0.0</td>\n",
       "      <td>0.0</td>\n",
       "      <td>0.0</td>\n",
       "      <td>...</td>\n",
       "      <td>0.00</td>\n",
       "      <td>1.00</td>\n",
       "      <td>0.00</td>\n",
       "      <td>0.0</td>\n",
       "      <td>0.0</td>\n",
       "      <td>0.0</td>\n",
       "      <td>0.0</td>\n",
       "      <td>ddos</td>\n",
       "      <td>ddos</td>\n",
       "      <td>ddos</td>\n",
       "    </tr>\n",
       "    <tr>\n",
       "      <th>44023</th>\n",
       "      <td>0.302422</td>\n",
       "      <td>1.0</td>\n",
       "      <td>0.631579</td>\n",
       "      <td>0.714286</td>\n",
       "      <td>2.105641e-07</td>\n",
       "      <td>0.000020</td>\n",
       "      <td>0.0</td>\n",
       "      <td>0.0</td>\n",
       "      <td>0.0</td>\n",
       "      <td>0.0</td>\n",
       "      <td>...</td>\n",
       "      <td>0.87</td>\n",
       "      <td>0.99</td>\n",
       "      <td>0.00</td>\n",
       "      <td>0.0</td>\n",
       "      <td>0.0</td>\n",
       "      <td>0.0</td>\n",
       "      <td>0.0</td>\n",
       "      <td>Not ddos</td>\n",
       "      <td>normal</td>\n",
       "      <td>Not ddos</td>\n",
       "    </tr>\n",
       "    <tr>\n",
       "      <th>44024</th>\n",
       "      <td>0.000000</td>\n",
       "      <td>0.5</td>\n",
       "      <td>1.000000</td>\n",
       "      <td>1.000000</td>\n",
       "      <td>0.000000e+00</td>\n",
       "      <td>0.000000</td>\n",
       "      <td>0.0</td>\n",
       "      <td>0.0</td>\n",
       "      <td>0.0</td>\n",
       "      <td>0.0</td>\n",
       "      <td>...</td>\n",
       "      <td>0.05</td>\n",
       "      <td>0.00</td>\n",
       "      <td>0.00</td>\n",
       "      <td>1.0</td>\n",
       "      <td>1.0</td>\n",
       "      <td>0.0</td>\n",
       "      <td>0.0</td>\n",
       "      <td>ddos</td>\n",
       "      <td>ddos</td>\n",
       "      <td>ddos</td>\n",
       "    </tr>\n",
       "    <tr>\n",
       "      <th>44025</th>\n",
       "      <td>0.000000</td>\n",
       "      <td>0.0</td>\n",
       "      <td>0.052632</td>\n",
       "      <td>0.714286</td>\n",
       "      <td>7.499542e-07</td>\n",
       "      <td>0.000000</td>\n",
       "      <td>0.0</td>\n",
       "      <td>0.0</td>\n",
       "      <td>0.0</td>\n",
       "      <td>0.0</td>\n",
       "      <td>...</td>\n",
       "      <td>0.00</td>\n",
       "      <td>1.00</td>\n",
       "      <td>0.00</td>\n",
       "      <td>0.0</td>\n",
       "      <td>0.0</td>\n",
       "      <td>0.0</td>\n",
       "      <td>0.0</td>\n",
       "      <td>ddos</td>\n",
       "      <td>ddos</td>\n",
       "      <td>ddos</td>\n",
       "    </tr>\n",
       "  </tbody>\n",
       "</table>\n",
       "<p>44026 rows × 44 columns</p>\n",
       "</div>"
      ],
      "text/plain": [
       "       duration  protocol_type   service      flag     src_bytes  dst_bytes  \\\n",
       "0      0.000000            0.0  0.052632  0.714286  1.488371e-06   0.000000   \n",
       "1      0.000000            0.0  0.052632  0.714286  1.488371e-06   0.000000   \n",
       "2      0.000017            0.5  0.736842  0.714286  8.408141e-07   0.000064   \n",
       "3      0.045089            1.0  0.631579  0.714286  2.120063e-07   0.000020   \n",
       "4      0.000000            0.0  0.052632  0.714286  1.488371e-06   0.000000   \n",
       "...         ...            ...       ...       ...           ...        ...   \n",
       "44021  0.000000            0.0  0.052632  0.714286  7.499542e-07   0.000000   \n",
       "44022  0.000000            0.0  0.052632  0.714286  7.499542e-07   0.000000   \n",
       "44023  0.302422            1.0  0.631579  0.714286  2.105641e-07   0.000020   \n",
       "44024  0.000000            0.5  1.000000  1.000000  0.000000e+00   0.000000   \n",
       "44025  0.000000            0.0  0.052632  0.714286  7.499542e-07   0.000000   \n",
       "\n",
       "       land  wrong_fragment  urgent  hot  ...  dst_host_diff_srv_rate  \\\n",
       "0       0.0             0.0     0.0  0.0  ...                    0.00   \n",
       "1       0.0             0.0     0.0  0.0  ...                    0.00   \n",
       "2       0.0             0.0     0.0  0.0  ...                    0.05   \n",
       "3       0.0             0.0     0.0  0.0  ...                    0.85   \n",
       "4       0.0             0.0     0.0  0.0  ...                    0.00   \n",
       "...     ...             ...     ...  ...  ...                     ...   \n",
       "44021   0.0             0.0     0.0  0.0  ...                    0.00   \n",
       "44022   0.0             0.0     0.0  0.0  ...                    0.00   \n",
       "44023   0.0             0.0     0.0  0.0  ...                    0.87   \n",
       "44024   0.0             0.0     0.0  0.0  ...                    0.05   \n",
       "44025   0.0             0.0     0.0  0.0  ...                    0.00   \n",
       "\n",
       "       dst_host_same_src_port_rate  dst_host_srv_diff_host_rate  \\\n",
       "0                             1.00                         0.00   \n",
       "1                             1.00                         0.00   \n",
       "2                             0.01                         0.01   \n",
       "3                             1.00                         0.00   \n",
       "4                             1.00                         0.00   \n",
       "...                            ...                          ...   \n",
       "44021                         1.00                         0.00   \n",
       "44022                         1.00                         0.00   \n",
       "44023                         0.99                         0.00   \n",
       "44024                         0.00                         0.00   \n",
       "44025                         1.00                         0.00   \n",
       "\n",
       "       dst_host_serror_rate  dst_host_srv_serror_rate  dst_host_rerror_rate  \\\n",
       "0                       0.0                       0.0                   0.0   \n",
       "1                       0.0                       0.0                   0.0   \n",
       "2                       0.0                       0.0                   0.0   \n",
       "3                       0.0                       0.0                   0.0   \n",
       "4                       0.0                       0.0                   0.0   \n",
       "...                     ...                       ...                   ...   \n",
       "44021                   0.0                       0.0                   0.0   \n",
       "44022                   0.0                       0.0                   0.0   \n",
       "44023                   0.0                       0.0                   0.0   \n",
       "44024                   1.0                       1.0                   0.0   \n",
       "44025                   0.0                       0.0                   0.0   \n",
       "\n",
       "       dst_host_srv_rerror_rate     label  label2    label3  \n",
       "0                           0.0      ddos    ddos      ddos  \n",
       "1                           0.0      ddos    ddos      ddos  \n",
       "2                           0.0  Not ddos  normal  Not ddos  \n",
       "3                           0.0  Not ddos  normal  Not ddos  \n",
       "4                           0.0      ddos    ddos      ddos  \n",
       "...                         ...       ...     ...       ...  \n",
       "44021                       0.0      ddos    ddos      ddos  \n",
       "44022                       0.0      ddos    ddos      ddos  \n",
       "44023                       0.0  Not ddos  normal  Not ddos  \n",
       "44024                       0.0      ddos    ddos      ddos  \n",
       "44025                       0.0      ddos    ddos      ddos  \n",
       "\n",
       "[44026 rows x 44 columns]"
      ]
     },
     "execution_count": 18,
     "metadata": {},
     "output_type": "execute_result"
    }
   ],
   "source": [
    "test_ddos"
   ]
  },
  {
   "cell_type": "code",
   "execution_count": 19,
   "metadata": {},
   "outputs": [
    {
     "data": {
      "text/html": [
       "<div>\n",
       "<style scoped>\n",
       "    .dataframe tbody tr th:only-of-type {\n",
       "        vertical-align: middle;\n",
       "    }\n",
       "\n",
       "    .dataframe tbody tr th {\n",
       "        vertical-align: top;\n",
       "    }\n",
       "\n",
       "    .dataframe thead th {\n",
       "        text-align: right;\n",
       "    }\n",
       "</style>\n",
       "<table border=\"1\" class=\"dataframe\">\n",
       "  <thead>\n",
       "    <tr style=\"text-align: right;\">\n",
       "      <th></th>\n",
       "      <th>duration</th>\n",
       "      <th>protocol_type</th>\n",
       "      <th>service</th>\n",
       "      <th>flag</th>\n",
       "      <th>src_bytes</th>\n",
       "      <th>dst_bytes</th>\n",
       "      <th>land</th>\n",
       "      <th>wrong_fragment</th>\n",
       "      <th>urgent</th>\n",
       "      <th>hot</th>\n",
       "      <th>...</th>\n",
       "      <th>dst_host_diff_srv_rate</th>\n",
       "      <th>dst_host_same_src_port_rate</th>\n",
       "      <th>dst_host_srv_diff_host_rate</th>\n",
       "      <th>dst_host_serror_rate</th>\n",
       "      <th>dst_host_srv_serror_rate</th>\n",
       "      <th>dst_host_rerror_rate</th>\n",
       "      <th>dst_host_srv_rerror_rate</th>\n",
       "      <th>label</th>\n",
       "      <th>label2</th>\n",
       "      <th>label3</th>\n",
       "    </tr>\n",
       "  </thead>\n",
       "  <tbody>\n",
       "    <tr>\n",
       "      <th>19729</th>\n",
       "      <td>0.0</td>\n",
       "      <td>1.0</td>\n",
       "      <td>0.684211</td>\n",
       "      <td>0.714286</td>\n",
       "      <td>4.038215e-08</td>\n",
       "      <td>0.000000</td>\n",
       "      <td>0.0</td>\n",
       "      <td>0.333333</td>\n",
       "      <td>0.0</td>\n",
       "      <td>0.000000</td>\n",
       "      <td>...</td>\n",
       "      <td>0.01</td>\n",
       "      <td>0.27</td>\n",
       "      <td>0.0</td>\n",
       "      <td>0.0</td>\n",
       "      <td>0.0</td>\n",
       "      <td>0.0</td>\n",
       "      <td>0.0</td>\n",
       "      <td>ddos</td>\n",
       "      <td>ddos</td>\n",
       "      <td>Not ddos</td>\n",
       "    </tr>\n",
       "    <tr>\n",
       "      <th>33073</th>\n",
       "      <td>0.0</td>\n",
       "      <td>0.5</td>\n",
       "      <td>0.315789</td>\n",
       "      <td>0.714286</td>\n",
       "      <td>7.865866e-05</td>\n",
       "      <td>0.001613</td>\n",
       "      <td>0.0</td>\n",
       "      <td>0.000000</td>\n",
       "      <td>0.0</td>\n",
       "      <td>0.066667</td>\n",
       "      <td>...</td>\n",
       "      <td>0.00</td>\n",
       "      <td>1.00</td>\n",
       "      <td>0.0</td>\n",
       "      <td>0.0</td>\n",
       "      <td>0.0</td>\n",
       "      <td>0.0</td>\n",
       "      <td>0.0</td>\n",
       "      <td>ddos</td>\n",
       "      <td>ddos</td>\n",
       "      <td>Not ddos</td>\n",
       "    </tr>\n",
       "  </tbody>\n",
       "</table>\n",
       "<p>2 rows × 44 columns</p>\n",
       "</div>"
      ],
      "text/plain": [
       "       duration  protocol_type   service      flag     src_bytes  dst_bytes  \\\n",
       "19729       0.0            1.0  0.684211  0.714286  4.038215e-08   0.000000   \n",
       "33073       0.0            0.5  0.315789  0.714286  7.865866e-05   0.001613   \n",
       "\n",
       "       land  wrong_fragment  urgent       hot  ...  dst_host_diff_srv_rate  \\\n",
       "19729   0.0        0.333333     0.0  0.000000  ...                    0.01   \n",
       "33073   0.0        0.000000     0.0  0.066667  ...                    0.00   \n",
       "\n",
       "       dst_host_same_src_port_rate  dst_host_srv_diff_host_rate  \\\n",
       "19729                         0.27                          0.0   \n",
       "33073                         1.00                          0.0   \n",
       "\n",
       "       dst_host_serror_rate  dst_host_srv_serror_rate  dst_host_rerror_rate  \\\n",
       "19729                   0.0                       0.0                   0.0   \n",
       "33073                   0.0                       0.0                   0.0   \n",
       "\n",
       "       dst_host_srv_rerror_rate  label  label2    label3  \n",
       "19729                       0.0   ddos    ddos  Not ddos  \n",
       "33073                       0.0   ddos    ddos  Not ddos  \n",
       "\n",
       "[2 rows x 44 columns]"
      ]
     },
     "execution_count": 19,
     "metadata": {},
     "output_type": "execute_result"
    }
   ],
   "source": [
    "#Set for prediction for the second classifier.\n",
    "real_ch = test_ddos[test_ddos['label3']=='Not ddos']\n",
    "x_real_ch_test = real_ch.iloc[:,:-3].values\n",
    "y_real_ch_test = real_ch.iloc[:,-2].values\n",
    "\n",
    "#False positives from DDOS SVM classifier\n",
    "real_ch[real_ch['label2']==\"ddos\"]"
   ]
  },
  {
   "cell_type": "code",
   "execution_count": 20,
   "metadata": {},
   "outputs": [
    {
     "name": "stdout",
     "output_type": "stream",
     "text": [
      "['ddos' 'normal' 'probe' 'r2l' 'u2r']\n",
      "\n",
      "['normal' 'probe' 'r2l' 'u2r']\n"
     ]
    }
   ],
   "source": [
    "y_real_ch_pred = class4_classifier.predict(x_real_ch_test)\n",
    "\n",
    "print(np.unique(y_real_ch_test))\n",
    "print()\n",
    "print(np.unique(y_real_ch_pred))"
   ]
  },
  {
   "cell_type": "code",
   "execution_count": 21,
   "metadata": {},
   "outputs": [
    {
     "name": "stdout",
     "output_type": "stream",
     "text": [
      "4-class DDOS attack type classifier\n",
      "\n",
      "[[   0    1    0    1    0]\n",
      " [   0 8749    2    5    1]\n",
      " [   0    7  377    0    0]\n",
      " [   0   25    0   77    0]\n",
      " [   0    5    0    1    4]]\n",
      "\n",
      "              precision    recall  f1-score   support\n",
      "\n",
      "        ddos       0.00      0.00      0.00         2\n",
      "      normal       1.00      1.00      1.00      8757\n",
      "       probe       0.99      0.98      0.99       384\n",
      "         r2l       0.92      0.75      0.83       102\n",
      "         u2r       0.80      0.40      0.53        10\n",
      "\n",
      "    accuracy                           0.99      9255\n",
      "   macro avg       0.74      0.63      0.67      9255\n",
      "weighted avg       0.99      0.99      0.99      9255\n",
      "\n"
     ]
    }
   ],
   "source": [
    "#Confusion matrix and Classification Report\n",
    "from sklearn.metrics import classification_report, confusion_matrix\n",
    "print(\"4-class DDOS attack type classifier\")\n",
    "print()\n",
    "print(confusion_matrix(y_real_ch_test, y_real_ch_pred))\n",
    "print()\n",
    "print(classification_report(y_real_ch_test, y_real_ch_pred,zero_division=0))\n"
   ]
  },
  {
   "cell_type": "code",
   "execution_count": 22,
   "metadata": {},
   "outputs": [
    {
     "data": {
      "image/png": "[encoded data removed]",
      "text/plain": [
       "<Figure size 648x648 with 2 Axes>"
      ]
     },
     "metadata": {
      "needs_background": "light"
     },
     "output_type": "display_data"
    }
   ],
   "source": [
    "plt.rcParams['figure.figsize']=9,9\n",
    "plot_confusion_matrix(class4_classifier,x_real_ch_test,y_real_ch_test,display_labels = np.unique(y_real_ch_test),cmap=plt.cm.Blues)\n",
    "plt.show()"
   ]
  },
  {
   "cell_type": "code",
   "execution_count": null,
   "metadata": {},
   "outputs": [],
   "source": []
  }
 ],
 "metadata": {
  "colab": {
   "collapsed_sections": [],
   "name": "DNN-NSLKDD.ipynb",
   "provenance": []
  },
  "kernelspec": {
   "display_name": "Python 3",
   "language": "python",
   "name": "python3"
  },
  "language_info": {
   "codemirror_mode": {
    "name": "ipython",
    "version": 3
   },
   "file_extension": ".py",
   "mimetype": "text/x-python",
   "name": "python",
   "nbconvert_exporter": "python",
   "pygments_lexer": "ipython3",
   "version": "3.8.5"
  }
 },
 "nbformat": 4,
 "nbformat_minor": 1
}
