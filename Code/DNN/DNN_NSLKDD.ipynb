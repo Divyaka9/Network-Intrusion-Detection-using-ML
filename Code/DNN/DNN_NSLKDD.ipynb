{
 "cells": [
  {
   "cell_type": "code",
   "execution_count": 1,
   "metadata": {
    "id": "wkbK1XYzp5Q2"
   },
   "outputs": [],
   "source": [
    "#Importing package\n",
    "import pandas as pd\n",
    "import numpy as np\n",
    "import tensorflow as tf\n"
   ]
  },
  {
   "cell_type": "code",
   "execution_count": 2,
   "metadata": {},
   "outputs": [],
   "source": [
    "#Importing train and test set\n",
    "train_set = pd.read_csv(\".\\\\dataset\\\\nsl-train.csv\")\n",
    "test_set = pd.read_csv(\".\\\\dataset\\\\nsl-test.csv\")\n"
   ]
  },
  {
   "cell_type": "code",
   "execution_count": 3,
   "metadata": {
    "id": "SebkGHwTrzyb"
   },
   "outputs": [],
   "source": [
    "#Seperating the features and output\n",
    "X_train = train_set.iloc[:,:-1].values\n",
    "y_train = train_set.iloc[:,-1].values\n",
    "X_test = test_set.iloc[:,:-1].values\n",
    "y_test = test_set.iloc[:,-1].values\n"
   ]
  },
  {
   "cell_type": "code",
   "execution_count": 4,
   "metadata": {
    "id": "FJQ6TSPdrz5d"
   },
   "outputs": [],
   "source": [
    "#One Hot encoding of the target\n",
    "from sklearn.preprocessing import LabelEncoder\n",
    "le = LabelEncoder()\n",
    "y_train = le.fit_transform(y_train)\n",
    "y_test = le.fit_transform(y_test)\n",
    "      \n",
    "from sklearn.preprocessing import OneHotEncoder\n",
    "onehot_encoder = OneHotEncoder(sparse=False)\n",
    "y_train = y_train.reshape(len(y_train), 1)\n",
    "y_train = onehot_encoder.fit_transform(y_train)\n",
    "y_test = y_test.reshape(len(y_test), 1)\n",
    "y_test = onehot_encoder.fit_transform(y_test)\n"
   ]
  },
  {
   "cell_type": "code",
   "execution_count": 5,
   "metadata": {
    "id": "EheQ283E30Ix"
   },
   "outputs": [
    {
     "name": "stdout",
     "output_type": "stream",
     "text": [
      "Epoch 1/10\n",
      "12/12 - 1s - loss: 1.4578 - accuracy: 0.3814\n",
      "Epoch 2/10\n",
      "12/12 - 1s - loss: 0.9136 - accuracy: 0.5366\n",
      "Epoch 3/10\n",
      "12/12 - 1s - loss: 0.6914 - accuracy: 0.5488\n",
      "Epoch 4/10\n",
      "12/12 - 1s - loss: 0.5783 - accuracy: 0.8344\n",
      "Epoch 5/10\n",
      "12/12 - 1s - loss: 0.4767 - accuracy: 0.8862\n",
      "Epoch 6/10\n",
      "12/12 - 1s - loss: 0.3672 - accuracy: 0.8885\n",
      "Epoch 7/10\n",
      "12/12 - 1s - loss: 0.2780 - accuracy: 0.8987\n",
      "Epoch 8/10\n",
      "12/12 - 1s - loss: 0.1844 - accuracy: 0.9491\n",
      "Epoch 9/10\n",
      "12/12 - 1s - loss: 0.1226 - accuracy: 0.9666\n",
      "Epoch 10/10\n",
      "12/12 - 1s - loss: 0.0963 - accuracy: 0.9736\n",
      "\n",
      "Accuracy of test set predictions: 97.41258025169373 %\n",
      "\n"
     ]
    }
   ],
   "source": [
    "#Deep Neural Network\n",
    "from keras.models import Sequential\n",
    "from keras.layers import Dense\n",
    "\n",
    "dnn = Sequential()\n",
    "dnn.add(Dense(units=100, input_dim=41,activation='relu'))\n",
    "dnn.add(Dense(units=100, activation='relu'))\n",
    "dnn.add(Dense(units=100, activation='relu'))\n",
    "dnn.add(Dense(units=100, activation='relu'))\n",
    "dnn.add(Dense(units=5, activation='relu'))\n",
    "dnn.add(Dense(units=5, activation='softmax'))\n",
    "\n",
    "#Training\n",
    "dnn.compile(optimizer='adam',loss='categorical_crossentropy',metrics=['accuracy'])\n",
    "\n",
    "dnn.fit(X_train, y_train, batch_size=10000, epochs=10,verbose=2)\n",
    "\n",
    "#Testing\n",
    "loss, accuracy = dnn.evaluate(X_test, y_test, verbose=0)\n",
    "\n",
    "print()\n",
    "print(\"Accuracy of test set predictions: \",accuracy*100,\" %\",sep='')\n",
    "print()\n",
    "\n",
    "#Predictions of test set\n",
    "y_pred = dnn.predict(X_test)\n"
   ]
  },
  {
   "cell_type": "code",
   "execution_count": 6,
   "metadata": {
    "id": "U4_rz_zP35ib"
   },
   "outputs": [],
   "source": [
    "#Decoding\n",
    "from numpy import argmax\n",
    "\n",
    "y_test_dec=np.empty(0,object)\n",
    "for i in range(len(y_test)):\n",
    "    dec=le.inverse_transform([argmax(y_test[i,:])])\n",
    "    y_test_dec=np.append(y_test_dec,dec,axis=0)\n",
    "\n",
    "y_pred_dec=np.empty(0,object)\n",
    "for i in range(len(y_pred)):\n",
    "    dec=le.inverse_transform([argmax(y_pred[i,:])])\n",
    "    y_pred_dec=np.append(y_pred_dec,dec,axis=0)\n"
   ]
  },
  {
   "cell_type": "code",
   "execution_count": 7,
   "metadata": {
    "id": "hzNU9VgR38ox"
   },
   "outputs": [
    {
     "name": "stdout",
     "output_type": "stream",
     "text": [
      "Recall Measure\n",
      "['probe' 'normal' 'ddos' 'r2l' 'u2r']\n",
      "[95.21880065 98.74859618 98.53982301  0.          0.        ]\n",
      "\n",
      "Precision Score\n",
      "['probe' 'normal' 'ddos' 'r2l' 'u2r']\n",
      "[93.62549801 96.71590195 99.53072626  0.          0.        ]\n",
      "\n",
      "F-Measure\n",
      "['probe' 'normal' 'ddos' 'r2l' 'u2r']\n",
      "[94.41542788 97.72167977 99.032796    0.          0.        ]\n",
      "\n"
     ]
    }
   ],
   "source": [
    "#Metrics\n",
    "#Recall\n",
    "from sklearn.metrics import recall_score\n",
    "recall = recall_score(y_test_dec,y_pred_dec,average=None,labels=train_set[\"label\"].unique())\n",
    "\n",
    "print(\"Recall Measure\")\n",
    "print(train_set[\"label\"].unique())\n",
    "print(recall*100)\n",
    "print()\n",
    "\n",
    "#Precision Score\n",
    "from sklearn.metrics import precision_score\n",
    "pr = precision_score(y_test_dec,y_pred_dec,average=None,labels=train_set[\"label\"].unique(),zero_division=0)\n",
    "\n",
    "print(\"Precision Score\")\n",
    "print(train_set[\"label\"].unique())\n",
    "print(pr*100)\n",
    "print()\n",
    "\n",
    "#F-measure\n",
    "from sklearn.metrics import f1_score\n",
    "f_measure = f1_score(y_test_dec,y_pred_dec,average=None,labels=train_set[\"label\"].unique())\n",
    "\n",
    "print(\"F-Measure\")\n",
    "print(train_set[\"label\"].unique())\n",
    "print(f_measure*100)\n",
    "print()\n"
   ]
  },
  {
   "cell_type": "code",
   "execution_count": null,
   "metadata": {},
   "outputs": [],
   "source": []
  }
 ],
 "metadata": {
  "colab": {
   "collapsed_sections": [],
   "name": "DNN-NSLKDD.ipynb",
   "provenance": []
  },
  "kernelspec": {
   "display_name": "Python 3",
   "language": "python",
   "name": "python3"
  },
  "language_info": {
   "codemirror_mode": {
    "name": "ipython",
    "version": 3
   },
   "file_extension": ".py",
   "mimetype": "text/x-python",
   "name": "python",
   "nbconvert_exporter": "python",
   "pygments_lexer": "ipython3",
   "version": "3.8.5"
  }
 },
 "nbformat": 4,
 "nbformat_minor": 1
}
